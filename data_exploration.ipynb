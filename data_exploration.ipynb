{
 "cells": [
  {
   "cell_type": "markdown",
   "metadata": {},
   "source": [
    "# Data import"
   ]
  },
  {
   "cell_type": "code",
   "execution_count": 103,
   "metadata": {},
   "outputs": [
    {
     "name": "stdout",
     "output_type": "stream",
     "text": [
      "<class 'pandas.core.frame.DataFrame'>\n",
      "RangeIndex: 36275 entries, 0 to 36274\n",
      "Data columns (total 19 columns):\n",
      " #   Column                                Non-Null Count  Dtype  \n",
      "---  ------                                --------------  -----  \n",
      " 0   Booking_ID                            36275 non-null  object \n",
      " 1   no_of_adults                          36275 non-null  int64  \n",
      " 2   no_of_children                        36275 non-null  int64  \n",
      " 3   no_of_weekend_nights                  36275 non-null  int64  \n",
      " 4   no_of_week_nights                     36275 non-null  int64  \n",
      " 5   type_of_meal_plan                     36275 non-null  object \n",
      " 6   required_car_parking_space            36275 non-null  int64  \n",
      " 7   room_type_reserved                    36275 non-null  object \n",
      " 8   lead_time                             36275 non-null  int64  \n",
      " 9   arrival_year                          36275 non-null  int64  \n",
      " 10  arrival_month                         36275 non-null  int64  \n",
      " 11  arrival_date                          36275 non-null  int64  \n",
      " 12  market_segment_type                   36275 non-null  object \n",
      " 13  repeated_guest                        36275 non-null  int64  \n",
      " 14  no_of_previous_cancellations          36275 non-null  int64  \n",
      " 15  no_of_previous_bookings_not_canceled  36275 non-null  int64  \n",
      " 16  avg_price_per_room                    36275 non-null  float64\n",
      " 17  no_of_special_requests                36275 non-null  int64  \n",
      " 18  booking_status                        36275 non-null  object \n",
      "dtypes: float64(1), int64(13), object(5)\n",
      "memory usage: 5.3+ MB\n",
      "None\n"
     ]
    }
   ],
   "source": [
    "import pandas as pd\n",
    "\n",
    "# Carregar os dados\n",
    "df = pd.read_csv(\"downloads/Hotel_Reservations.csv\")\n",
    "\n",
    "# Visualizar as primeiras linhas do dataset\n",
    "print(df.info())"
   ]
  },
  {
   "cell_type": "markdown",
   "metadata": {},
   "source": [
    "### Mudando nome da coluna Booking_ID\n",
    "Por algum motivo, o formato de escrita do nome dessa coluna da erro."
   ]
  },
  {
   "cell_type": "code",
   "execution_count": 104,
   "metadata": {},
   "outputs": [],
   "source": [
    "df.rename(columns={df.columns[0]: 'booking_id'}, inplace=True)"
   ]
  },
  {
   "cell_type": "code",
   "execution_count": 105,
   "metadata": {},
   "outputs": [
    {
     "data": {
      "text/plain": [
       "0    INN00001\n",
       "1    INN00002\n",
       "2    INN00003\n",
       "3    INN00004\n",
       "4    INN00005\n",
       "Name: booking_id, dtype: object"
      ]
     },
     "execution_count": 105,
     "metadata": {},
     "output_type": "execute_result"
    }
   ],
   "source": [
    "df['booking_id'].head()"
   ]
  },
  {
   "cell_type": "markdown",
   "metadata": {},
   "source": [
    "# Cleaning data"
   ]
  },
  {
   "cell_type": "markdown",
   "metadata": {},
   "source": [
    "### Converting the first column from object to string"
   ]
  },
  {
   "cell_type": "code",
   "execution_count": 106,
   "metadata": {},
   "outputs": [
    {
     "name": "stdout",
     "output_type": "stream",
     "text": [
      "object\n"
     ]
    }
   ],
   "source": [
    "# Convert the 'booking_id' column to string\n",
    "df['booking_id'] = df['booking_id'].astype(str)\n",
    "\n",
    "# Verify the data type\n",
    "print(df['booking_id'].dtype)"
   ]
  },
  {
   "cell_type": "code",
   "execution_count": 107,
   "metadata": {},
   "outputs": [
    {
     "name": "stdout",
     "output_type": "stream",
     "text": [
      "0        00001\n",
      "1        00002\n",
      "2        00003\n",
      "3        00004\n",
      "4        00005\n",
      "         ...  \n",
      "36270    36271\n",
      "36271    36272\n",
      "36272    36273\n",
      "36273    36274\n",
      "36274    36275\n",
      "Name: booking_id, Length: 36275, dtype: object\n"
     ]
    }
   ],
   "source": [
    "# Remover as letras \"INN\" dos valores da coluna booking_id\n",
    "df['booking_id'] = df['booking_id'].str.replace('INN', '', regex=False)\n",
    "\n",
    "\n",
    "# Visualizar o DataFrame atualizado\n",
    "print(df['booking_id'])"
   ]
  },
  {
   "cell_type": "markdown",
   "metadata": {},
   "source": [
    "# Data exploration"
   ]
  },
  {
   "cell_type": "code",
   "execution_count": 108,
   "metadata": {},
   "outputs": [
    {
     "name": "stdout",
     "output_type": "stream",
     "text": [
      "booking_id                              0\n",
      "no_of_adults                            0\n",
      "no_of_children                          0\n",
      "no_of_weekend_nights                    0\n",
      "no_of_week_nights                       0\n",
      "type_of_meal_plan                       0\n",
      "required_car_parking_space              0\n",
      "room_type_reserved                      0\n",
      "lead_time                               0\n",
      "arrival_year                            0\n",
      "arrival_month                           0\n",
      "arrival_date                            0\n",
      "market_segment_type                     0\n",
      "repeated_guest                          0\n",
      "no_of_previous_cancellations            0\n",
      "no_of_previous_bookings_not_canceled    0\n",
      "avg_price_per_room                      0\n",
      "no_of_special_requests                  0\n",
      "booking_status                          0\n",
      "dtype: int64\n",
      "<class 'pandas.core.frame.DataFrame'>\n",
      "RangeIndex: 36275 entries, 0 to 36274\n",
      "Data columns (total 32 columns):\n",
      " #   Column                                Non-Null Count  Dtype  \n",
      "---  ------                                --------------  -----  \n",
      " 0   booking_id                            36275 non-null  object \n",
      " 1   no_of_adults                          36275 non-null  int64  \n",
      " 2   no_of_children                        36275 non-null  int64  \n",
      " 3   no_of_weekend_nights                  36275 non-null  int64  \n",
      " 4   no_of_week_nights                     36275 non-null  int64  \n",
      " 5   required_car_parking_space            36275 non-null  int64  \n",
      " 6   lead_time                             36275 non-null  int64  \n",
      " 7   arrival_year                          36275 non-null  int64  \n",
      " 8   arrival_month                         36275 non-null  int64  \n",
      " 9   arrival_date                          36275 non-null  int64  \n",
      " 10  repeated_guest                        36275 non-null  int64  \n",
      " 11  no_of_previous_cancellations          36275 non-null  int64  \n",
      " 12  no_of_previous_bookings_not_canceled  36275 non-null  int64  \n",
      " 13  avg_price_per_room                    36275 non-null  float64\n",
      " 14  no_of_special_requests                36275 non-null  int64  \n",
      " 15  booking_status                        36275 non-null  object \n",
      " 16  type_of_meal_plan_Meal Plan 1         36275 non-null  bool   \n",
      " 17  type_of_meal_plan_Meal Plan 2         36275 non-null  bool   \n",
      " 18  type_of_meal_plan_Meal Plan 3         36275 non-null  bool   \n",
      " 19  type_of_meal_plan_Not Selected        36275 non-null  bool   \n",
      " 20  room_type_reserved_Room_Type 1        36275 non-null  bool   \n",
      " 21  room_type_reserved_Room_Type 2        36275 non-null  bool   \n",
      " 22  room_type_reserved_Room_Type 3        36275 non-null  bool   \n",
      " 23  room_type_reserved_Room_Type 4        36275 non-null  bool   \n",
      " 24  room_type_reserved_Room_Type 5        36275 non-null  bool   \n",
      " 25  room_type_reserved_Room_Type 6        36275 non-null  bool   \n",
      " 26  room_type_reserved_Room_Type 7        36275 non-null  bool   \n",
      " 27  market_segment_type_Aviation          36275 non-null  bool   \n",
      " 28  market_segment_type_Complementary     36275 non-null  bool   \n",
      " 29  market_segment_type_Corporate         36275 non-null  bool   \n",
      " 30  market_segment_type_Offline           36275 non-null  bool   \n",
      " 31  market_segment_type_Online            36275 non-null  bool   \n",
      "dtypes: bool(16), float64(1), int64(13), object(2)\n",
      "memory usage: 5.0+ MB\n",
      "None\n"
     ]
    }
   ],
   "source": [
    "# Checar valores ausentes\n",
    "print(df.isnull().sum())\n",
    "\n",
    "# Preencher ou remover valores ausentes\n",
    "df.fillna(0, inplace=True)\n",
    "\n",
    "# Converter apenas as colunas selecionadas para variáveis numéricas\n",
    "target_columns = ['type_of_meal_plan', 'room_type_reserved', 'market_segment_type']\n",
    "dummies = pd.get_dummies(df[target_columns], drop_first=False)\n",
    "\n",
    "# Concatenar os dummies de volta ao DataFrame original\n",
    "df = pd.concat([df, dummies], axis=1)\n",
    "\n",
    "# Remover as colunas originais, se desejado\n",
    "df.drop(columns=target_columns, inplace=True)\n",
    "\n",
    "# Confirmar limpeza\n",
    "print(df.info())"
   ]
  },
  {
   "cell_type": "markdown",
   "metadata": {},
   "source": [
    "# Separating Features and Targes"
   ]
  },
  {
   "cell_type": "code",
   "execution_count": 109,
   "metadata": {},
   "outputs": [
    {
     "name": "stdout",
     "output_type": "stream",
     "text": [
      "X and y have been exported as 'features.csv' and 'target.csv'.\n"
     ]
    }
   ],
   "source": [
    "X = df.drop('booking_status', axis=1)\n",
    "y = df['booking_status']\n",
    "\n",
    "# Export X (features) to a CSV file\n",
    "X.to_csv('data/features.csv', index=False)\n",
    "\n",
    "# Export y (target) to a CSV file\n",
    "y.to_csv('data/target.csv', index=False, header=True)\n",
    "\n",
    "print(\"X and y have been exported as 'features.csv' and 'target.csv'.\")"
   ]
  }
 ],
 "metadata": {
  "kernelspec": {
   "display_name": ".venv",
   "language": "python",
   "name": "python3"
  },
  "language_info": {
   "codemirror_mode": {
    "name": "ipython",
    "version": 3
   },
   "file_extension": ".py",
   "mimetype": "text/x-python",
   "name": "python",
   "nbconvert_exporter": "python",
   "pygments_lexer": "ipython3",
   "version": "3.12.5"
  }
 },
 "nbformat": 4,
 "nbformat_minor": 2
}
